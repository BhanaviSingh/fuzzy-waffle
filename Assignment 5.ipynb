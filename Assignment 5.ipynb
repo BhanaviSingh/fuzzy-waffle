{
 "cells": [
  {
   "cell_type": "markdown",
   "metadata": {},
   "source": [
    "Bhanavi Singh"
   ]
  },
  {
   "cell_type": "markdown",
   "metadata": {},
   "source": [
    "Q1. Given a list of integers, write a function to return the sum of all prime numbers in that list."
   ]
  },
  {
   "cell_type": "code",
   "execution_count": 1,
   "metadata": {},
   "outputs": [
    {
     "name": "stdout",
     "output_type": "stream",
     "text": [
      "Sum of all prime numbers: 179\n"
     ]
    }
   ],
   "source": [
    "def findPrime(list1):\n",
    "    s = 0\n",
    "    for num in list1:\n",
    "        i = 2\n",
    "        p = 1\n",
    "        while i <= num / 2:\n",
    "            if num % i == 0:\n",
    "                p = 0\n",
    "                break\n",
    "            i = i + 1\n",
    "        if p == 1:\n",
    "            s = s + num\n",
    "    return s\n",
    "\n",
    "\n",
    "list1 = [23,67,44,89]\n",
    "s = findPrime(list1)\n",
    "print(\"Sum of all prime numbers:\", s)"
   ]
  },
  {
   "cell_type": "markdown",
   "metadata": {},
   "source": [
    "Q2. Given a list of integers, write a function to check whether the list is strictly increasing or not"
   ]
  },
  {
   "cell_type": "code",
   "execution_count": 3,
   "metadata": {},
   "outputs": [
    {
     "name": "stdout",
     "output_type": "stream",
     "text": [
      "True\n",
      "True\n",
      "True\n",
      "True\n",
      "True\n"
     ]
    }
   ],
   "source": [
    "def almost_increasing_sequence(sequence):\n",
    "    if len(sequence) < 3:\n",
    "        return True\n",
    "\n",
    "    a, b, *sequence = sequence\n",
    "    skipped = 0\n",
    "    for c in sequence:\n",
    "        if a < b < c:  # XXX\n",
    "            a, b = b, c\n",
    "            continue\n",
    "        elif b < c:    # !XX\n",
    "            a, b = b, c\n",
    "        elif a < c:    # X!X\n",
    "            a, b = a, c\n",
    "        skipped += 1\n",
    "        if skipped == 2:\n",
    "            return False\n",
    "    return a < b\n",
    "print(almost_increasing_sequence([1, 2, 3, 0, 4, 5, 6]))\n",
    "print(almost_increasing_sequence([1, 2, 3, 0]))\n",
    "print(almost_increasing_sequence([1, 2, 0, 3]))\n",
    "print(almost_increasing_sequence([10, 1, 2, 3, 4, 5]))\n",
    "print(almost_increasing_sequence([1, 2, 10, 3, 4]))"
   ]
  },
  {
   "cell_type": "markdown",
   "metadata": {},
   "source": [
    "Q3. Write a function to check whether a given list is expanding or not (the difference between adjacent elements should keep on increasing)."
   ]
  },
  {
   "cell_type": "code",
   "execution_count": 4,
   "metadata": {},
   "outputs": [
    {
     "data": {
      "text/plain": [
       "False"
      ]
     },
     "execution_count": 4,
     "metadata": {},
     "output_type": "execute_result"
    }
   ],
   "source": [
    "def expand(m):\n",
    "    a = abs(m[1] - m[0])\n",
    "    b = abs(m[2] - m[1])\n",
    "    \n",
    "    if a >= b:\n",
    "        return False\n",
    "    \n",
    "    else:\n",
    "        for i in range(3,len(m)):\n",
    "            c = abs(m[i] - m[i-1])\n",
    "            if c <= b:\n",
    "                return False\n",
    "            b = c\n",
    "        else:\n",
    "            return True\n",
    "expand([23,56,11,90,43])"
   ]
  },
  {
   "cell_type": "markdown",
   "metadata": {},
   "source": [
    "Q4. Write a function to calculate all permutations of a given string. (Without using itertools)"
   ]
  },
  {
   "cell_type": "code",
   "execution_count": 6,
   "metadata": {},
   "outputs": [
    {
     "name": "stdout",
     "output_type": "stream",
     "text": [
      "Enter the string : Kishu\n",
      "All possible strings are : \n",
      "Kishu  Kisuh  Kihsu  Kihus  Kiush  Kiuhs  Ksihu  Ksiuh  Kshiu  Kshui  Ksuih  Ksuhi  Khisu  Khius  Khsiu  Khsui  Khuis  Khusi  Kuish  Kuihs  Kusih  Kushi  Kuhis  Kuhsi  iKshu  iKsuh  iKhsu  iKhus  iKush  iKuhs  isKhu  isKuh  ishKu  ishuK  isuKh  isuhK  ihKsu  ihKus  ihsKu  ihsuK  ihuKs  ihusK  iuKsh  iuKhs  iusKh  iushK  iuhKs  iuhsK  sKihu  sKiuh  sKhiu  sKhui  sKuih  sKuhi  siKhu  siKuh  sihKu  sihuK  siuKh  siuhK  shKiu  shKui  shiKu  shiuK  shuKi  shuiK  suKih  suKhi  suiKh  suihK  suhKi  suhiK  hKisu  hKius  hKsiu  hKsui  hKuis  hKusi  hiKsu  hiKus  hisKu  hisuK  hiuKs  hiusK  hsKiu  hsKui  hsiKu  hsiuK  hsuKi  hsuiK  huKis  huKsi  huiKs  huisK  husKi  husiK  uKish  uKihs  uKsih  uKshi  uKhis  uKhsi  uiKsh  uiKhs  uisKh  uishK  uihKs  uihsK  usKih  usKhi  usiKh  usihK  ushKi  ushiK  uhKis  uhKsi  uhiKs  uhisK  uhsKi  uhsiK  "
     ]
    }
   ],
   "source": [
    "def permutation(n, ans):\n",
    "    if (len(n) == 0):\n",
    "        print(ans, end = \"  \")\n",
    "        return\n",
    "     \n",
    "    for i in range(len(n)):\n",
    "        ch = n[i]\n",
    "        left = n[0:i]\n",
    "        right = n[i + 1:]\n",
    "        rest = left + right\n",
    "        permutation(rest, ans + ch)\n",
    "ans = \"\"\n",
    "n = input(\"Enter the string : \")\n",
    "print(\"All possible strings are : \")\n",
    "permutation(n, ans)"
   ]
  },
  {
   "cell_type": "code",
   "execution_count": null,
   "metadata": {},
   "outputs": [],
   "source": []
  }
 ],
 "metadata": {
  "kernelspec": {
   "display_name": "Python 3",
   "language": "python",
   "name": "python3"
  },
  "language_info": {
   "codemirror_mode": {
    "name": "ipython",
    "version": 3
   },
   "file_extension": ".py",
   "mimetype": "text/x-python",
   "name": "python",
   "nbconvert_exporter": "python",
   "pygments_lexer": "ipython3",
   "version": "3.8.5"
  }
 },
 "nbformat": 4,
 "nbformat_minor": 4
}
