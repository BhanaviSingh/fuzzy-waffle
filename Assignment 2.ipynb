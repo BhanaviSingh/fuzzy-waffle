{
 "cells": [
  {
   "cell_type": "markdown",
   "metadata": {},
   "source": [
    "Name : Bhanavi Singh"
   ]
  },
  {
   "cell_type": "markdown",
   "metadata": {},
   "source": [
    "Q1: Write a lambda expression to extract first word of a string."
   ]
  },
  {
   "cell_type": "code",
   "execution_count": 1,
   "metadata": {},
   "outputs": [
    {
     "name": "stdout",
     "output_type": "stream",
     "text": [
      "BTS\n"
     ]
    }
   ],
   "source": [
    "s = \"BTS is the biggest boy band in the world\"\n",
    "word = lambda i: s.split()[i]\n",
    "print(word(0))"
   ]
  },
  {
   "cell_type": "markdown",
   "metadata": {},
   "source": [
    "Q2: Write a function to extract first word of s string(with many word seperated by space"
   ]
  },
  {
   "cell_type": "code",
   "execution_count": 2,
   "metadata": {},
   "outputs": [
    {
     "data": {
      "text/plain": [
       "'I'"
      ]
     },
     "execution_count": 2,
     "metadata": {},
     "output_type": "execute_result"
    }
   ],
   "source": [
    "a = \" I want to be a rock in my next life.\" \n",
    "def fword(string):\n",
    "    return string.split()[0]\n",
    "fword(a)"
   ]
  },
  {
   "cell_type": "markdown",
   "metadata": {},
   "source": [
    "Q3. Extract the first word from every string from a list of strings by using map function."
   ]
  },
  {
   "cell_type": "code",
   "execution_count": 3,
   "metadata": {},
   "outputs": [
    {
     "name": "stdout",
     "output_type": "stream",
     "text": [
      "['Stay', 'But', 'Dream', 'So']\n"
     ]
    }
   ],
   "source": [
    "list1 = [\"Stay innocent, be naive.\",\n",
    "        \"But still dream big.\",\n",
    "        \"Dream big to the point that it is beyoynd you abiliyy and endeavor to achieve it.\",\n",
    "        \"So dream big and don't lose your innocence.\"]\n",
    "def fword(string):\n",
    "    return string.split()[0]\n",
    "res = list(map(fword,list1))\n",
    "print(res)"
   ]
  },
  {
   "cell_type": "markdown",
   "metadata": {},
   "source": [
    "Q4: Write a function to return a list of prime factors of a given number."
   ]
  },
  {
   "cell_type": "code",
   "execution_count": 4,
   "metadata": {},
   "outputs": [
    {
     "name": "stdout",
     "output_type": "stream",
     "text": [
      "Enter the number: 175\n",
      "[5, 5, 7]\n"
     ]
    }
   ],
   "source": [
    "def prime(a):\n",
    "    fact = []\n",
    "    div = 2\n",
    "    while div <= a:\n",
    "        if a%div == 0:\n",
    "            fact.append(div)\n",
    "            a = a/div\n",
    "        else:\n",
    "            div += 1 \n",
    "    return fact\n",
    "\n",
    "n = input('Enter the number: ')\n",
    "print(prime(int(n)))"
   ]
  },
  {
   "cell_type": "markdown",
   "metadata": {},
   "source": [
    "5: Write a function that finds 2nd largest among 4 numbers (Repetitions are allowed, without sorting)."
   ]
  },
  {
   "cell_type": "code",
   "execution_count": 6,
   "metadata": {},
   "outputs": [
    {
     "name": "stdout",
     "output_type": "stream",
     "text": [
      "Enter elements: 6\n",
      "Enter elements: 5\n",
      "Enter elements: 3\n",
      "Enter elements: 9\n",
      "All elements:  [6, 5, 3, 9]\n",
      "2nd largest element:  6\n"
     ]
    }
   ],
   "source": [
    "list1 = []\n",
    " \n",
    "def second_largest(l):\n",
    "    new_list = set(l)\n",
    "    new_list.remove(max(new_list))\n",
    "    return max(new_list)\n",
    "\n",
    "for i in range(1, 5):\n",
    "    elmnt = int(input(\"Enter elements: \"))\n",
    "    list1.append(elmnt)\n",
    "    \n",
    "print('All elements: ',list1)\n",
    "print('2nd largest element: ',second_largest(list1))"
   ]
  }
 ],
 "metadata": {
  "kernelspec": {
   "display_name": "Python 3",
   "language": "python",
   "name": "python3"
  },
  "language_info": {
   "codemirror_mode": {
    "name": "ipython",
    "version": 3
   },
   "file_extension": ".py",
   "mimetype": "text/x-python",
   "name": "python",
   "nbconvert_exporter": "python",
   "pygments_lexer": "ipython3",
   "version": "3.8.5"
  }
 },
 "nbformat": 4,
 "nbformat_minor": 4
}
